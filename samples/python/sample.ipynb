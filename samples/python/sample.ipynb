{
 "cells": [
  {
   "cell_type": "code",
   "execution_count": 1,
   "id": "8b7fd446",
   "metadata": {},
   "outputs": [
    {
     "name": "stdout",
     "output_type": "stream",
     "text": [
      "\u001b[33mDEPRECATION: Configuring installation scheme with distutils config files is deprecated and will no longer work in the near future. If you are using a Homebrew or Linuxbrew Python, please see discussion at https://github.com/Homebrew/homebrew-core/issues/76621\u001b[0m\n",
      "Requirement already satisfied: firebase-admin in /opt/homebrew/lib/python3.9/site-packages (5.2.0)\n",
      "Requirement already satisfied: cachecontrol>=0.12.6 in /opt/homebrew/lib/python3.9/site-packages (from firebase-admin) (0.12.10)\n",
      "Requirement already satisfied: google-cloud-firestore>=2.1.0 in /opt/homebrew/lib/python3.9/site-packages (from firebase-admin) (2.4.0)\n",
      "Requirement already satisfied: google-api-python-client>=1.7.8 in /opt/homebrew/lib/python3.9/site-packages (from firebase-admin) (2.41.0)\n",
      "Requirement already satisfied: google-api-core[grpc]<3.0.0dev,>=1.22.1 in /opt/homebrew/lib/python3.9/site-packages (from firebase-admin) (2.7.1)\n",
      "Requirement already satisfied: google-cloud-storage>=1.37.1 in /opt/homebrew/lib/python3.9/site-packages (from firebase-admin) (2.2.1)\n",
      "Requirement already satisfied: msgpack>=0.5.2 in /opt/homebrew/lib/python3.9/site-packages (from cachecontrol>=0.12.6->firebase-admin) (1.0.3)\n",
      "Requirement already satisfied: requests in /opt/homebrew/lib/python3.9/site-packages (from cachecontrol>=0.12.6->firebase-admin) (2.27.1)\n",
      "Requirement already satisfied: google-auth<3.0dev,>=1.25.0 in /opt/homebrew/lib/python3.9/site-packages (from google-api-core[grpc]<3.0.0dev,>=1.22.1->firebase-admin) (2.6.2)\n",
      "Requirement already satisfied: googleapis-common-protos<2.0dev,>=1.52.0 in /opt/homebrew/lib/python3.9/site-packages (from google-api-core[grpc]<3.0.0dev,>=1.22.1->firebase-admin) (1.56.0)\n",
      "Requirement already satisfied: protobuf>=3.12.0 in /opt/homebrew/lib/python3.9/site-packages (from google-api-core[grpc]<3.0.0dev,>=1.22.1->firebase-admin) (3.19.4)\n",
      "Requirement already satisfied: grpcio-status<2.0dev,>=1.33.2 in /opt/homebrew/lib/python3.9/site-packages (from google-api-core[grpc]<3.0.0dev,>=1.22.1->firebase-admin) (1.44.0)\n",
      "Requirement already satisfied: grpcio<2.0dev,>=1.33.2 in /opt/homebrew/lib/python3.9/site-packages (from google-api-core[grpc]<3.0.0dev,>=1.22.1->firebase-admin) (1.44.0)\n",
      "Requirement already satisfied: httplib2<1dev,>=0.15.0 in /opt/homebrew/lib/python3.9/site-packages (from google-api-python-client>=1.7.8->firebase-admin) (0.20.4)\n",
      "Requirement already satisfied: uritemplate<5,>=3.0.1 in /opt/homebrew/lib/python3.9/site-packages (from google-api-python-client>=1.7.8->firebase-admin) (4.1.1)\n",
      "Requirement already satisfied: google-auth-httplib2>=0.1.0 in /opt/homebrew/lib/python3.9/site-packages (from google-api-python-client>=1.7.8->firebase-admin) (0.1.0)\n",
      "Requirement already satisfied: proto-plus>=1.10.0 in /opt/homebrew/lib/python3.9/site-packages (from google-cloud-firestore>=2.1.0->firebase-admin) (1.20.3)\n",
      "Requirement already satisfied: google-cloud-core<3.0.0dev,>=1.4.1 in /opt/homebrew/lib/python3.9/site-packages (from google-cloud-firestore>=2.1.0->firebase-admin) (2.2.3)\n",
      "Requirement already satisfied: google-resumable-media>=2.3.2 in /opt/homebrew/lib/python3.9/site-packages (from google-cloud-storage>=1.37.1->firebase-admin) (2.3.2)\n",
      "Requirement already satisfied: cachetools<6.0,>=2.0.0 in /opt/homebrew/lib/python3.9/site-packages (from google-auth<3.0dev,>=1.25.0->google-api-core[grpc]<3.0.0dev,>=1.22.1->firebase-admin) (5.0.0)\n",
      "Requirement already satisfied: rsa<5,>=3.1.4 in /opt/homebrew/lib/python3.9/site-packages (from google-auth<3.0dev,>=1.25.0->google-api-core[grpc]<3.0.0dev,>=1.22.1->firebase-admin) (4.8)\n",
      "Requirement already satisfied: six>=1.9.0 in /opt/homebrew/lib/python3.9/site-packages (from google-auth<3.0dev,>=1.25.0->google-api-core[grpc]<3.0.0dev,>=1.22.1->firebase-admin) (1.16.0)\n",
      "Requirement already satisfied: pyasn1-modules>=0.2.1 in /opt/homebrew/lib/python3.9/site-packages (from google-auth<3.0dev,>=1.25.0->google-api-core[grpc]<3.0.0dev,>=1.22.1->firebase-admin) (0.2.8)\n",
      "Requirement already satisfied: google-crc32c<2.0dev,>=1.0 in /opt/homebrew/lib/python3.9/site-packages (from google-resumable-media>=2.3.2->google-cloud-storage>=1.37.1->firebase-admin) (1.3.0)\n",
      "Requirement already satisfied: pyparsing!=3.0.0,!=3.0.1,!=3.0.2,!=3.0.3,<4,>=2.4.2 in /opt/homebrew/lib/python3.9/site-packages (from httplib2<1dev,>=0.15.0->google-api-python-client>=1.7.8->firebase-admin) (3.0.6)\n",
      "Requirement already satisfied: urllib3<1.27,>=1.21.1 in /opt/homebrew/lib/python3.9/site-packages (from requests->cachecontrol>=0.12.6->firebase-admin) (1.26.8)\n",
      "Requirement already satisfied: idna<4,>=2.5 in /opt/homebrew/lib/python3.9/site-packages (from requests->cachecontrol>=0.12.6->firebase-admin) (3.3)\n",
      "Requirement already satisfied: charset-normalizer~=2.0.0 in /opt/homebrew/lib/python3.9/site-packages (from requests->cachecontrol>=0.12.6->firebase-admin) (2.0.12)\n",
      "Requirement already satisfied: certifi>=2017.4.17 in /opt/homebrew/lib/python3.9/site-packages (from requests->cachecontrol>=0.12.6->firebase-admin) (2021.10.8)\n",
      "Requirement already satisfied: pyasn1<0.5.0,>=0.4.6 in /opt/homebrew/lib/python3.9/site-packages (from pyasn1-modules>=0.2.1->google-auth<3.0dev,>=1.25.0->google-api-core[grpc]<3.0.0dev,>=1.22.1->firebase-admin) (0.4.8)\n",
      "\u001b[33mWARNING: You are using pip version 21.3.1; however, version 22.0.4 is available.\n",
      "You should consider upgrading via the '/opt/homebrew/opt/python@3.9/bin/python3.9 -m pip install --upgrade pip' command.\u001b[0m\n"
     ]
    }
   ],
   "source": [
    "!pip install --upgrade firebase-admin"
   ]
  },
  {
   "cell_type": "code",
   "execution_count": 3,
   "id": "23da72b8",
   "metadata": {},
   "outputs": [],
   "source": [
    "import firebase_admin\n",
    "from firebase_admin import credentials\n",
    "from firebase_admin import firestore\n",
    "\n",
    "# Use the application default credentials\n",
    "cred = credentials.ApplicationDefault()\n",
    "firebase_admin.initialize_app(cred, {\n",
    "  'projectId': 'test-project',\n",
    "})\n",
    "\n",
    "db = firestore.client()"
   ]
  },
  {
   "cell_type": "code",
   "execution_count": 4,
   "id": "0a4125b5",
   "metadata": {},
   "outputs": [
    {
     "data": {
      "text/plain": [
       "update_time {\n",
       "  seconds: 1647585485\n",
       "  nanos: 382653000\n",
       "}"
      ]
     },
     "execution_count": 4,
     "metadata": {},
     "output_type": "execute_result"
    }
   ],
   "source": [
    "doc_ref = db.collection(u'users').document(u'alovelace')\n",
    "doc_ref.set({\n",
    "    u'first': u'Ada',\n",
    "    u'last': u'Lovelace',\n",
    "    u'born': 1815\n",
    "})"
   ]
  },
  {
   "cell_type": "code",
   "execution_count": null,
   "id": "7e730abe",
   "metadata": {},
   "outputs": [],
   "source": []
  }
 ],
 "metadata": {
  "kernelspec": {
   "display_name": "Python 3 (ipykernel)",
   "language": "python",
   "name": "python3"
  },
  "language_info": {
   "codemirror_mode": {
    "name": "ipython",
    "version": 3
   },
   "file_extension": ".py",
   "mimetype": "text/x-python",
   "name": "python",
   "nbconvert_exporter": "python",
   "pygments_lexer": "ipython3",
   "version": "3.9.10"
  }
 },
 "nbformat": 4,
 "nbformat_minor": 5
}
